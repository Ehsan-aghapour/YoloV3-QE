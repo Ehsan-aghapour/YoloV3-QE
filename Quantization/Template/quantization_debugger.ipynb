{
 "cells": [
  {
   "cell_type": "markdown",
   "metadata": {
    "id": "KimMZUVqcJ8_"
   },
   "source": [
    "##### Copyright 2021 The TensorFlow Authors."
   ]
  },
  {
   "cell_type": "code",
   "execution_count": 1,
   "metadata": {
    "cellView": "form",
    "execution": {
     "iopub.execute_input": "2022-10-20T13:29:24.749610Z",
     "iopub.status.busy": "2022-10-20T13:29:24.749135Z",
     "iopub.status.idle": "2022-10-20T13:29:24.753136Z",
     "shell.execute_reply": "2022-10-20T13:29:24.752461Z"
    },
    "id": "BRQ6HQ8zcV5v"
   },
   "outputs": [],
   "source": [
    "#@title Licensed under the Apache License, Version 2.0 (the \"License\");\n",
    "# you may not use this file except in compliance with the License.\n",
    "# You may obtain a copy of the License at\n",
    "#\n",
    "# https://www.apache.org/licenses/LICENSE-2.0\n",
    "#\n",
    "# Unless required by applicable law or agreed to in writing, software\n",
    "# distributed under the License is distributed on an \"AS IS\" BASIS,\n",
    "# WITHOUT WARRANTIES OR CONDITIONS OF ANY KIND, either express or implied.\n",
    "# See the License for the specific language governing permissions and\n",
    "# limitations under the License."
   ]
  },
  {
   "cell_type": "markdown",
   "metadata": {
    "id": "BlWzg1D9_EhW"
   },
   "source": [
    "# Inspecting Quantization Errors with Quantization Debugger"
   ]
  },
  {
   "cell_type": "markdown",
   "metadata": {
    "id": "XLoHL19yb-a0"
   },
   "source": [
    "<table class=\"tfo-notebook-buttons\" align=\"left\">\n",
    "  <td>\n",
    "    <a target=\"_blank\" href=\"https://www.tensorflow.org/lite/performance/quantization_debugger\"><img src=\"https://www.tensorflow.org/images/tf_logo_32px.png\" />View on TensorFlow.org</a>\n",
    "  </td>\n",
    "  <td>\n",
    "    <a target=\"_blank\" href=\"https://colab.research.google.com/github/tensorflow/tensorflow/blob/master/tensorflow/lite/g3doc/performance/quantization_debugger.ipynb\"><img src=\"https://www.tensorflow.org/images/colab_logo_32px.png\" />Run in Google Colab</a>\n",
    "  </td>\n",
    "  <td>\n",
    "    <a target=\"_blank\" href=\"https://github.com/tensorflow/tensorflow/blob/master/tensorflow/lite/g3doc/performance/quantization_debugger.ipynb\"><img src=\"https://www.tensorflow.org/images/GitHub-Mark-32px.png\" />View source on GitHub</a>\n",
    "  </td>\n",
    "  <td>\n",
    "    <a href=\"https://storage.googleapis.com/tensorflow_docs/tensorflow/tensorflow/lite/g3doc/performance/quantization_debugger.ipynb\"><img src=\"https://www.tensorflow.org/images/download_logo_32px.png\" />Download notebook</a>\n",
    "  </td>\n",
    "  <td>\n",
    "    <a href=\"https://tfhub.dev/google/imagenet/mobilenet_v3_small_100_224/classification/5\"><img src=\"https://www.tensorflow.org/images/hub_logo_32px.png\" />See TF Hub model</a>\n",
    "  </td>\n",
    "</table>"
   ]
  },
  {
   "cell_type": "markdown",
   "metadata": {
    "id": "MWO_yYDGcGWY"
   },
   "source": [
    "Although full-integer quantization provides improved model size and latency, the\n",
    "quantized model won't always work as expected. It's usually expected for the\n",
    "model quality (e.g. accuracy, mAP, WER) to be slightly lower than the original\n",
    "float model. However, there are cases where the model quality can go below your\n",
    "expectation or generated completely wrong results.\n",
    "\n",
    "When this problem happens, it's tricky and painful to spot the root cause of the\n",
    "quantization error, and it's even more difficult to fix the quantization error.\n",
    "To assist this model inspection process, **quantization debugger** can be used\n",
    "to identify problematic layers, and **selective quantization** can leave those\n",
    "problematic layers in float so that the model accuracy can be recovered at the\n",
    "cost of reduced benefit from quantization.\n",
    "\n",
    "Note: This API is experimental, and there might be breaking changes in the API\n",
    "in the course of improvements."
   ]
  },
  {
   "cell_type": "markdown",
   "metadata": {
    "id": "9kD29R1I_Mn6"
   },
   "source": [
    "## Quantization Debugger\n",
    "\n",
    "Quantization debugger makes it possible to do quantization quality metric\n",
    "analysis in the existing model. Quantization debugger can automate processes for\n",
    "running model with a debug dataset, and collecting quantization quality metrics\n",
    "for each tensors.\n",
    "\n",
    "Note: Quantization debugger and selective quantization currently only works for\n",
    "full-integer quantization with int8 activations."
   ]
  },
  {
   "cell_type": "markdown",
   "metadata": {
    "id": "221Qon7G_PmZ"
   },
   "source": [
    "### Prerequisites\n",
    "\n",
    "If you already have a pipeline to quantize a model, you have all necessary\n",
    "pieces to run quantization debugger!\n",
    "\n",
    "*   Model to quantize\n",
    "*   Representative dataset\n",
    "\n",
    "In addition to model and data, you will need to use a data processing framework\n",
    "(e.g. pandas, Google Sheets) to analyze the exported results."
   ]
  },
  {
   "cell_type": "markdown",
   "metadata": {
    "id": "qTEEzJWo_iZ_"
   },
   "source": [
    "### Setup\n",
    "\n",
    "This section prepares libraries, MobileNet v3 model, and test dataset of 100\n",
    "images."
   ]
  },
  {
   "cell_type": "code",
   "execution_count": 2,
   "metadata": {
    "execution": {
     "iopub.execute_input": "2022-10-20T13:29:24.761151Z",
     "iopub.status.busy": "2022-10-20T13:29:24.760694Z",
     "iopub.status.idle": "2022-10-20T13:29:56.104175Z",
     "shell.execute_reply": "2022-10-20T13:29:56.103267Z"
    },
    "id": "l7epUDUP_6qo"
   },
   "outputs": [
    {
     "name": "stdout",
     "output_type": "stream",
     "text": [
      "Found existing installation: tensorflow 2.11.0rc1\r\n"
     ]
    },
    {
     "name": "stdout",
     "output_type": "stream",
     "text": [
      "Uninstalling tensorflow-2.11.0rc1:\r\n"
     ]
    },
    {
     "name": "stdout",
     "output_type": "stream",
     "text": [
      "  Successfully uninstalled tensorflow-2.11.0rc1\r\n"
     ]
    },
    {
     "name": "stdout",
     "output_type": "stream",
     "text": [
      "Collecting tf-nightly\r\n"
     ]
    },
    {
     "name": "stdout",
     "output_type": "stream",
     "text": [
      "  Downloading tf_nightly-2.12.0.dev20221020-cp39-cp39-manylinux_2_17_x86_64.manylinux2014_x86_64.whl (592.0 MB)\r\n"
     ]
    },
    {
     "name": "stdout",
     "output_type": "stream",
     "text": [
      "Collecting tf-estimator-nightly~=2.12.0.dev\r\n",
      "  Downloading tf_estimator_nightly-2.12.0.dev2022102008-py2.py3-none-any.whl (439 kB)\r\n",
      "Requirement already satisfied: packaging in /tmpfs/src/tf_docs_env/lib/python3.9/site-packages (from tf-nightly) (21.3)\r\n",
      "Requirement already satisfied: wrapt>=1.11.0 in /tmpfs/src/tf_docs_env/lib/python3.9/site-packages (from tf-nightly) (1.14.1)\r\n",
      "Requirement already satisfied: libclang>=13.0.0 in /tmpfs/src/tf_docs_env/lib/python3.9/site-packages (from tf-nightly) (14.0.6)\r\n",
      "Requirement already satisfied: termcolor>=1.1.0 in /tmpfs/src/tf_docs_env/lib/python3.9/site-packages (from tf-nightly) (2.0.1)\r\n",
      "Requirement already satisfied: astunparse>=1.6.0 in /tmpfs/src/tf_docs_env/lib/python3.9/site-packages (from tf-nightly) (1.6.3)\r\n",
      "Requirement already satisfied: gast<=0.4.0,>=0.2.1 in /tmpfs/src/tf_docs_env/lib/python3.9/site-packages (from tf-nightly) (0.4.0)\r\n",
      "Requirement already satisfied: opt-einsum>=2.3.2 in /tmpfs/src/tf_docs_env/lib/python3.9/site-packages (from tf-nightly) (3.3.0)\r\n",
      "Requirement already satisfied: tensorflow-io-gcs-filesystem>=0.23.1 in /tmpfs/src/tf_docs_env/lib/python3.9/site-packages (from tf-nightly) (0.27.0)\r\n",
      "Requirement already satisfied: h5py>=2.9.0 in /tmpfs/src/tf_docs_env/lib/python3.9/site-packages (from tf-nightly) (3.7.0)\r\n"
     ]
    },
    {
     "name": "stdout",
     "output_type": "stream",
     "text": [
      "Collecting tb-nightly~=2.11.0.a\r\n",
      "  Downloading tb_nightly-2.11.0a20221020-py3-none-any.whl (6.0 MB)\r\n"
     ]
    },
    {
     "name": "stdout",
     "output_type": "stream",
     "text": [
      "Requirement already satisfied: setuptools in /tmpfs/src/tf_docs_env/lib/python3.9/site-packages (from tf-nightly) (65.5.0)\r\n",
      "Requirement already satisfied: grpcio<2.0,>=1.24.3 in /tmpfs/src/tf_docs_env/lib/python3.9/site-packages (from tf-nightly) (1.50.0)\r\n",
      "Requirement already satisfied: numpy>=1.20 in /tmpfs/src/tf_docs_env/lib/python3.9/site-packages (from tf-nightly) (1.23.4)\r\n",
      "Requirement already satisfied: six>=1.12.0 in /tmpfs/src/tf_docs_env/lib/python3.9/site-packages (from tf-nightly) (1.16.0)\r\n",
      "Requirement already satisfied: absl-py>=1.0.0 in /tmpfs/src/tf_docs_env/lib/python3.9/site-packages (from tf-nightly) (1.3.0)\r\n",
      "Requirement already satisfied: typing-extensions>=3.6.6 in /tmpfs/src/tf_docs_env/lib/python3.9/site-packages (from tf-nightly) (4.4.0)\r\n",
      "Requirement already satisfied: google-pasta>=0.1.1 in /tmpfs/src/tf_docs_env/lib/python3.9/site-packages (from tf-nightly) (0.2.0)\r\n",
      "Requirement already satisfied: protobuf<3.20,>=3.9.2 in /tmpfs/src/tf_docs_env/lib/python3.9/site-packages (from tf-nightly) (3.19.6)\r\n",
      "Requirement already satisfied: flatbuffers>=2.0 in /tmpfs/src/tf_docs_env/lib/python3.9/site-packages (from tf-nightly) (22.9.24)\r\n"
     ]
    },
    {
     "name": "stdout",
     "output_type": "stream",
     "text": [
      "Collecting keras-nightly~=2.12.0.dev\r\n",
      "  Downloading keras_nightly-2.12.0.dev2022102007-py2.py3-none-any.whl (1.7 MB)\r\n"
     ]
    },
    {
     "name": "stdout",
     "output_type": "stream",
     "text": [
      "Requirement already satisfied: wheel<1.0,>=0.23.0 in /tmpfs/src/tf_docs_env/lib/python3.9/site-packages (from astunparse>=1.6.0->tf-nightly) (0.37.1)\r\n",
      "Requirement already satisfied: tensorboard-data-server<0.7.0,>=0.6.0 in /tmpfs/src/tf_docs_env/lib/python3.9/site-packages (from tb-nightly~=2.11.0.a->tf-nightly) (0.6.1)\r\n"
     ]
    },
    {
     "name": "stdout",
     "output_type": "stream",
     "text": [
      "Requirement already satisfied: werkzeug>=1.0.1 in /tmpfs/src/tf_docs_env/lib/python3.9/site-packages (from tb-nightly~=2.11.0.a->tf-nightly) (2.2.2)\r\n",
      "Requirement already satisfied: markdown>=2.6.8 in /tmpfs/src/tf_docs_env/lib/python3.9/site-packages (from tb-nightly~=2.11.0.a->tf-nightly) (3.4.1)\r\n",
      "Requirement already satisfied: google-auth<3,>=1.6.3 in /tmpfs/src/tf_docs_env/lib/python3.9/site-packages (from tb-nightly~=2.11.0.a->tf-nightly) (2.13.0)\r\n",
      "Requirement already satisfied: google-auth-oauthlib<0.5,>=0.4.1 in /tmpfs/src/tf_docs_env/lib/python3.9/site-packages (from tb-nightly~=2.11.0.a->tf-nightly) (0.4.6)\r\n",
      "Requirement already satisfied: requests<3,>=2.21.0 in /tmpfs/src/tf_docs_env/lib/python3.9/site-packages (from tb-nightly~=2.11.0.a->tf-nightly) (2.28.1)\r\n",
      "Requirement already satisfied: tensorboard-plugin-wit>=1.6.0 in /tmpfs/src/tf_docs_env/lib/python3.9/site-packages (from tb-nightly~=2.11.0.a->tf-nightly) (1.8.1)\r\n",
      "Requirement already satisfied: pyparsing!=3.0.5,>=2.0.2 in /tmpfs/src/tf_docs_env/lib/python3.9/site-packages (from packaging->tf-nightly) (3.0.9)\r\n",
      "Requirement already satisfied: pyasn1-modules>=0.2.1 in /tmpfs/src/tf_docs_env/lib/python3.9/site-packages (from google-auth<3,>=1.6.3->tb-nightly~=2.11.0.a->tf-nightly) (0.3.0rc1)\r\n",
      "Requirement already satisfied: rsa<5,>=3.1.4 in /tmpfs/src/tf_docs_env/lib/python3.9/site-packages (from google-auth<3,>=1.6.3->tb-nightly~=2.11.0.a->tf-nightly) (4.9)\r\n",
      "Requirement already satisfied: cachetools<6.0,>=2.0.0 in /tmpfs/src/tf_docs_env/lib/python3.9/site-packages (from google-auth<3,>=1.6.3->tb-nightly~=2.11.0.a->tf-nightly) (5.2.0)\r\n",
      "Requirement already satisfied: requests-oauthlib>=0.7.0 in /tmpfs/src/tf_docs_env/lib/python3.9/site-packages (from google-auth-oauthlib<0.5,>=0.4.1->tb-nightly~=2.11.0.a->tf-nightly) (1.3.1)\r\n",
      "Requirement already satisfied: importlib-metadata>=4.4 in /tmpfs/src/tf_docs_env/lib/python3.9/site-packages (from markdown>=2.6.8->tb-nightly~=2.11.0.a->tf-nightly) (5.0.0)\r\n"
     ]
    },
    {
     "name": "stdout",
     "output_type": "stream",
     "text": [
      "Requirement already satisfied: certifi>=2017.4.17 in /tmpfs/src/tf_docs_env/lib/python3.9/site-packages (from requests<3,>=2.21.0->tb-nightly~=2.11.0.a->tf-nightly) (2022.9.24)\r\n",
      "Requirement already satisfied: urllib3<1.27,>=1.21.1 in /tmpfs/src/tf_docs_env/lib/python3.9/site-packages (from requests<3,>=2.21.0->tb-nightly~=2.11.0.a->tf-nightly) (1.26.12)\r\n",
      "Requirement already satisfied: charset-normalizer<3,>=2 in /tmpfs/src/tf_docs_env/lib/python3.9/site-packages (from requests<3,>=2.21.0->tb-nightly~=2.11.0.a->tf-nightly) (2.1.1)\r\n",
      "Requirement already satisfied: idna<4,>=2.5 in /tmpfs/src/tf_docs_env/lib/python3.9/site-packages (from requests<3,>=2.21.0->tb-nightly~=2.11.0.a->tf-nightly) (3.4)\r\n",
      "Requirement already satisfied: MarkupSafe>=2.1.1 in /tmpfs/src/tf_docs_env/lib/python3.9/site-packages (from werkzeug>=1.0.1->tb-nightly~=2.11.0.a->tf-nightly) (2.1.1)\r\n",
      "Requirement already satisfied: zipp>=0.5 in /tmpfs/src/tf_docs_env/lib/python3.9/site-packages (from importlib-metadata>=4.4->markdown>=2.6.8->tb-nightly~=2.11.0.a->tf-nightly) (3.9.0)\r\n"
     ]
    },
    {
     "name": "stdout",
     "output_type": "stream",
     "text": [
      "Requirement already satisfied: pyasn1<0.6.0,>=0.4.6 in /tmpfs/src/tf_docs_env/lib/python3.9/site-packages (from pyasn1-modules>=0.2.1->google-auth<3,>=1.6.3->tb-nightly~=2.11.0.a->tf-nightly) (0.5.0rc2)\r\n",
      "Requirement already satisfied: oauthlib>=3.0.0 in /tmpfs/src/tf_docs_env/lib/python3.9/site-packages (from requests-oauthlib>=0.7.0->google-auth-oauthlib<0.5,>=0.4.1->tb-nightly~=2.11.0.a->tf-nightly) (3.2.2)\r\n"
     ]
    },
    {
     "name": "stdout",
     "output_type": "stream",
     "text": [
      "Installing collected packages: tf-estimator-nightly, keras-nightly, tb-nightly, tf-nightly\r\n"
     ]
    },
    {
     "name": "stdout",
     "output_type": "stream",
     "text": [
      "Successfully installed keras-nightly-2.12.0.dev2022102007 tb-nightly-2.11.0a20221020 tf-estimator-nightly-2.12.0.dev2022102008 tf-nightly-2.12.0.dev20221020\r\n"
     ]
    },
    {
     "name": "stdout",
     "output_type": "stream",
     "text": [
      "Requirement already satisfied: tensorflow_datasets in /tmpfs/src/tf_docs_env/lib/python3.9/site-packages (4.7.0)\r\n"
     ]
    },
    {
     "name": "stdout",
     "output_type": "stream",
     "text": [
      "Requirement already satisfied: etils[epath] in /tmpfs/src/tf_docs_env/lib/python3.9/site-packages (from tensorflow_datasets) (0.8.0)\r\n",
      "Requirement already satisfied: termcolor in /tmpfs/src/tf_docs_env/lib/python3.9/site-packages (from tensorflow_datasets) (2.0.1)\r\n",
      "Requirement already satisfied: tqdm in /tmpfs/src/tf_docs_env/lib/python3.9/site-packages (from tensorflow_datasets) (4.64.1)\r\n",
      "Requirement already satisfied: protobuf>=3.12.2 in /tmpfs/src/tf_docs_env/lib/python3.9/site-packages (from tensorflow_datasets) (3.19.6)\r\n",
      "Requirement already satisfied: toml in /tmpfs/src/tf_docs_env/lib/python3.9/site-packages (from tensorflow_datasets) (0.10.2)\r\n",
      "Requirement already satisfied: six in /tmpfs/src/tf_docs_env/lib/python3.9/site-packages (from tensorflow_datasets) (1.16.0)\r\n",
      "Requirement already satisfied: promise in /tmpfs/src/tf_docs_env/lib/python3.9/site-packages (from tensorflow_datasets) (2.3)\r\n",
      "Requirement already satisfied: dill in /tmpfs/src/tf_docs_env/lib/python3.9/site-packages (from tensorflow_datasets) (0.3.5.1)\r\n",
      "Requirement already satisfied: requests>=2.19.0 in /tmpfs/src/tf_docs_env/lib/python3.9/site-packages (from tensorflow_datasets) (2.28.1)\r\n",
      "Requirement already satisfied: tensorflow-metadata in /tmpfs/src/tf_docs_env/lib/python3.9/site-packages (from tensorflow_datasets) (1.10.0)\r\n",
      "Requirement already satisfied: numpy in /tmpfs/src/tf_docs_env/lib/python3.9/site-packages (from tensorflow_datasets) (1.23.4)\r\n",
      "Requirement already satisfied: absl-py in /tmpfs/src/tf_docs_env/lib/python3.9/site-packages (from tensorflow_datasets) (1.3.0)\r\n",
      "Requirement already satisfied: certifi>=2017.4.17 in /tmpfs/src/tf_docs_env/lib/python3.9/site-packages (from requests>=2.19.0->tensorflow_datasets) (2022.9.24)\r\n",
      "Requirement already satisfied: urllib3<1.27,>=1.21.1 in /tmpfs/src/tf_docs_env/lib/python3.9/site-packages (from requests>=2.19.0->tensorflow_datasets) (1.26.12)\r\n",
      "Requirement already satisfied: charset-normalizer<3,>=2 in /tmpfs/src/tf_docs_env/lib/python3.9/site-packages (from requests>=2.19.0->tensorflow_datasets) (2.1.1)\r\n",
      "Requirement already satisfied: idna<4,>=2.5 in /tmpfs/src/tf_docs_env/lib/python3.9/site-packages (from requests>=2.19.0->tensorflow_datasets) (3.4)\r\n"
     ]
    },
    {
     "name": "stdout",
     "output_type": "stream",
     "text": [
      "Requirement already satisfied: zipp in /tmpfs/src/tf_docs_env/lib/python3.9/site-packages (from etils[epath]->tensorflow_datasets) (3.9.0)\r\n",
      "Requirement already satisfied: importlib_resources in /tmpfs/src/tf_docs_env/lib/python3.9/site-packages (from etils[epath]->tensorflow_datasets) (5.10.0)\r\n",
      "Requirement already satisfied: typing_extensions in /tmpfs/src/tf_docs_env/lib/python3.9/site-packages (from etils[epath]->tensorflow_datasets) (4.4.0)\r\n",
      "Requirement already satisfied: googleapis-common-protos<2,>=1.52.0 in /tmpfs/src/tf_docs_env/lib/python3.9/site-packages (from tensorflow-metadata->tensorflow_datasets) (1.56.4)\r\n"
     ]
    }
   ],
   "source": [
    "# Quantization debugger is available from TensorFlow 2.7.0\n",
    "!pip uninstall -y tensorflow\n",
    "!pip install tf-nightly\n",
    "!pip install tensorflow_datasets --upgrade  # imagenet_v2 needs latest checksum"
   ]
  },
  {
   "cell_type": "code",
   "execution_count": 2,
   "metadata": {
    "execution": {
     "iopub.execute_input": "2022-10-20T13:29:56.108833Z",
     "iopub.status.busy": "2022-10-20T13:29:56.108564Z",
     "iopub.status.idle": "2022-10-20T13:29:58.828751Z",
     "shell.execute_reply": "2022-10-20T13:29:58.828049Z"
    },
    "id": "LLsgiUZe_hIa"
   },
   "outputs": [
    {
     "name": "stderr",
     "output_type": "stream",
     "text": [
      "2023-02-14 13:38:03.823056: I tensorflow/core/util/port.cc:110] oneDNN custom operations are on. You may see slightly different numerical results due to floating-point round-off errors from different computation orders. To turn them off, set the environment variable `TF_ENABLE_ONEDNN_OPTS=0`.\n",
      "2023-02-14 13:38:03.826921: I tensorflow/tsl/cuda/cudart_stub.cc:28] Could not find cuda drivers on your machine, GPU will not be used.\n",
      "2023-02-14 13:38:03.880944: I tensorflow/tsl/cuda/cudart_stub.cc:28] Could not find cuda drivers on your machine, GPU will not be used.\n",
      "2023-02-14 13:38:03.881458: I tensorflow/core/platform/cpu_feature_guard.cc:182] This TensorFlow binary is optimized to use available CPU instructions in performance-critical operations.\n",
      "To enable the following instructions: AVX2 AVX512F AVX512_VNNI FMA, in other operations, rebuild TensorFlow with the appropriate compiler flags.\n",
      "2023-02-14 13:38:04.566908: W tensorflow/compiler/tf2tensorrt/utils/py_utils.cc:38] TF-TRT Warning: Could not find TensorRT\n",
      "/home/ehsan/anaconda3/envs/Quantize/lib/python3.10/site-packages/tqdm/auto.py:22: TqdmWarning: IProgress not found. Please update jupyter and ipywidgets. See https://ipywidgets.readthedocs.io/en/stable/user_install.html\n",
      "  from .autonotebook import tqdm as notebook_tqdm\n"
     ]
    }
   ],
   "source": [
    "import matplotlib.pyplot as plt\n",
    "import numpy as np\n",
    "import pandas as pd\n",
    "import tensorflow as tf\n",
    "import tensorflow_datasets as tfds\n",
    "import tensorflow_hub as hub"
   ]
  },
  {
   "cell_type": "code",
   "execution_count": 5,
   "metadata": {
    "cellView": "form",
    "execution": {
     "iopub.execute_input": "2022-10-20T13:29:58.833063Z",
     "iopub.status.busy": "2022-10-20T13:29:58.832577Z",
     "iopub.status.idle": "2022-10-20T13:30:20.763915Z",
     "shell.execute_reply": "2022-10-20T13:30:20.763042Z"
    },
    "id": "veWjO3u32vzz"
   },
   "outputs": [
    {
     "name": "stderr",
     "output_type": "stream",
     "text": [
      "WARNING:absl:Found untraced functions such as _update_step_xla while saving (showing 1 of 1). These functions will not be directly callable after loading.\n"
     ]
    },
    {
     "name": "stdout",
     "output_type": "stream",
     "text": [
      "INFO:tensorflow:Assets written to: /tmp/tmppioyzryd/assets\n"
     ]
    },
    {
     "name": "stderr",
     "output_type": "stream",
     "text": [
      "INFO:tensorflow:Assets written to: /tmp/tmppioyzryd/assets\n",
      "/home/ehsan/anaconda3/envs/Quantize/lib/python3.10/site-packages/tensorflow/lite/python/convert.py:789: UserWarning: Statistics for quantized inputs were expected, but not specified; continuing anyway.\n",
      "  warnings.warn(\"Statistics for quantized inputs were expected, but not \"\n",
      "2023-02-14 13:40:33.875285: W tensorflow/compiler/mlir/lite/python/tf_tfl_flatbuffer_helpers.cc:364] Ignored output_format.\n",
      "2023-02-14 13:40:33.875309: W tensorflow/compiler/mlir/lite/python/tf_tfl_flatbuffer_helpers.cc:367] Ignored drop_control_dependency.\n",
      "2023-02-14 13:40:33.875462: I tensorflow/cc/saved_model/reader.cc:45] Reading SavedModel from: /tmp/tmppioyzryd\n",
      "2023-02-14 13:40:33.880914: I tensorflow/cc/saved_model/reader.cc:89] Reading meta graph with tags { serve }\n",
      "2023-02-14 13:40:33.880944: I tensorflow/cc/saved_model/reader.cc:130] Reading SavedModel debug info (if present) from: /tmp/tmppioyzryd\n",
      "2023-02-14 13:40:33.905861: I tensorflow/cc/saved_model/loader.cc:231] Restoring SavedModel bundle.\n",
      "2023-02-14 13:40:34.116173: I tensorflow/cc/saved_model/loader.cc:215] Running initialization op on SavedModel bundle at path: /tmp/tmppioyzryd\n",
      "2023-02-14 13:40:34.182478: I tensorflow/cc/saved_model/loader.cc:314] SavedModel load for tags { serve }; Status: success: OK. Took 307015 microseconds.\n",
      "2023-02-14 13:40:34.541378: I tensorflow/compiler/mlir/lite/flatbuffer_export.cc:2116] Estimated count of arithmetic ops: 115.112 M  ops, equivalently 57.556 M  MACs\n",
      "2023-02-14 13:40:34.572713: I tensorflow/core/common_runtime/executor.cc:1197] [/device:CPU:0] (DEBUG INFO) Executor start aborting (this does not indicate an error and you can ignore this message): INVALID_ARGUMENT: You must feed a value for placeholder tensor 'Placeholder/_2' with dtype string and shape [1]\n",
      "\t [[{{node Placeholder/_2}}]]\n",
      "2023-02-14 13:40:34.573069: I tensorflow/core/common_runtime/executor.cc:1197] [/device:CPU:0] (DEBUG INFO) Executor start aborting (this does not indicate an error and you can ignore this message): INVALID_ARGUMENT: You must feed a value for placeholder tensor 'Placeholder/_0' with dtype string and shape [1]\n",
      "\t [[{{node Placeholder/_0}}]]\n",
      "fully_quantize: 0, inference_type: 6, input_inference_type: FLOAT32, output_inference_type: FLOAT32\n",
      "2023-02-14 13:40:37.509439: I tensorflow/compiler/mlir/lite/flatbuffer_export.cc:2116] Estimated count of arithmetic ops: 115.112 M  ops, equivalently 57.556 M  MACs\n"
     ]
    },
    {
     "data": {
      "text/plain": [
       "2926624"
      ]
     },
     "execution_count": 5,
     "metadata": {},
     "output_type": "execute_result"
    }
   ],
   "source": [
    "#@title Boilerplates and helpers\n",
    "MODEL_URI = 'https://tfhub.dev/google/imagenet/mobilenet_v3_small_100_224/classification/5'\n",
    "\n",
    "\n",
    "def process_image(data):\n",
    "  data['image'] = tf.image.resize(data['image'], (224, 224)) / 255.0\n",
    "  return data\n",
    "\n",
    "\n",
    "# Representative dataset\n",
    "def representative_dataset(dataset):\n",
    "\n",
    "  def _data_gen():\n",
    "    for data in dataset.batch(1):\n",
    "      yield [data['image']]\n",
    "\n",
    "  return _data_gen\n",
    "\n",
    "\n",
    "def eval_tflite(tflite_model, dataset):\n",
    "  \"\"\"Evaluates tensorflow lite classification model with the given dataset.\"\"\"\n",
    "  interpreter = tf.lite.Interpreter(model_content=tflite_model)\n",
    "  interpreter.allocate_tensors()\n",
    "\n",
    "  input_idx = interpreter.get_input_details()[0]['index']\n",
    "  output_idx = interpreter.get_output_details()[0]['index']\n",
    "\n",
    "  results = []\n",
    "\n",
    "  for data in representative_dataset(dataset)():\n",
    "    interpreter.set_tensor(input_idx, data[0])\n",
    "    interpreter.invoke()\n",
    "    results.append(interpreter.get_tensor(output_idx).flatten())\n",
    "\n",
    "  results = np.array(results)\n",
    "  gt_labels = np.array(list(dataset.map(lambda data: data['label'] + 1)))\n",
    "  accuracy = (\n",
    "      np.sum(np.argsort(results, axis=1)[:, -5:] == gt_labels.reshape(-1, 1)) /\n",
    "      gt_labels.size)\n",
    "  print(f'Top-5 accuracy (quantized): {accuracy * 100:.2f}%')\n",
    "\n",
    "\n",
    "model = tf.keras.Sequential([\n",
    "  tf.keras.layers.Input(shape=(224, 224, 3), batch_size=1),\n",
    "  hub.KerasLayer(MODEL_URI)\n",
    "])\n",
    "model.compile(\n",
    "    loss='sparse_categorical_crossentropy',\n",
    "    metrics='sparse_top_k_categorical_accuracy')\n",
    "model.build([1, 224, 224, 3])\n",
    "model.save('k.h5')\n",
    "# Prepare dataset with 100 examples\n",
    "ds = tfds.load('imagenet_v2', split='test[:1%]')\n",
    "ds = ds.map(process_image)\n",
    "\n",
    "converter = tf.lite.TFLiteConverter.from_keras_model(model)\n",
    "converter.representative_dataset = representative_dataset(ds)\n",
    "converter.optimizations = [tf.lite.Optimize.DEFAULT]\n",
    "quantized_model = converter.convert()\n",
    "open('q.tflite', \"wb\").write(quantized_model)"
   ]
  },
  {
   "cell_type": "code",
   "execution_count": 6,
   "metadata": {
    "execution": {
     "iopub.execute_input": "2022-10-20T13:30:20.767730Z",
     "iopub.status.busy": "2022-10-20T13:30:20.767429Z",
     "iopub.status.idle": "2022-10-20T13:30:24.545446Z",
     "shell.execute_reply": "2022-10-20T13:30:24.544613Z"
    },
    "id": "7mX-R-xK4ADB"
   },
   "outputs": [
    {
     "name": "stderr",
     "output_type": "stream",
     "text": [
      "2023-02-14 13:43:24.987205: I tensorflow/core/common_runtime/executor.cc:1197] [/device:CPU:0] (DEBUG INFO) Executor start aborting (this does not indicate an error and you can ignore this message): INVALID_ARGUMENT: You must feed a value for placeholder tensor 'Placeholder/_0' with dtype string and shape [1]\n",
      "\t [[{{node Placeholder/_0}}]]\n",
      "2023-02-14 13:43:24.987579: I tensorflow/core/common_runtime/executor.cc:1197] [/device:CPU:0] (DEBUG INFO) Executor start aborting (this does not indicate an error and you can ignore this message): INVALID_ARGUMENT: You must feed a value for placeholder tensor 'Placeholder/_1' with dtype string and shape [1]\n",
      "\t [[{{node Placeholder/_1}}]]\n"
     ]
    },
    {
     "name": "stdout",
     "output_type": "stream",
     "text": [
      "7/7 [==============================] - 1s 34ms/step - loss: 5.7098 - sparse_top_k_categorical_accuracy: 0.8200\n",
      "Top-5 accuracy (float): 82.00%\n"
     ]
    }
   ],
   "source": [
    "test_ds = ds.map(lambda data: (data['image'], data['label'] + 1)).batch(16)\n",
    "loss, acc = model.evaluate(test_ds)\n",
    "print(f'Top-5 accuracy (float): {acc * 100:.2f}%')"
   ]
  },
  {
   "cell_type": "code",
   "execution_count": 7,
   "metadata": {
    "execution": {
     "iopub.execute_input": "2022-10-20T13:30:24.549148Z",
     "iopub.status.busy": "2022-10-20T13:30:24.548650Z",
     "iopub.status.idle": "2022-10-20T13:30:28.229831Z",
     "shell.execute_reply": "2022-10-20T13:30:28.228969Z"
    },
    "id": "Mnp6yBnJSCoh"
   },
   "outputs": [
    {
     "name": "stderr",
     "output_type": "stream",
     "text": [
      "INFO: Created TensorFlow Lite XNNPACK delegate for CPU.\n",
      "2023-02-14 13:43:37.053206: I tensorflow/core/common_runtime/executor.cc:1197] [/device:CPU:0] (DEBUG INFO) Executor start aborting (this does not indicate an error and you can ignore this message): INVALID_ARGUMENT: You must feed a value for placeholder tensor 'Placeholder/_2' with dtype string and shape [1]\n",
      "\t [[{{node Placeholder/_2}}]]\n",
      "2023-02-14 13:43:37.053672: I tensorflow/core/common_runtime/executor.cc:1197] [/device:CPU:0] (DEBUG INFO) Executor start aborting (this does not indicate an error and you can ignore this message): INVALID_ARGUMENT: You must feed a value for placeholder tensor 'Placeholder/_3' with dtype int64 and shape [1]\n",
      "\t [[{{node Placeholder/_3}}]]\n"
     ]
    },
    {
     "name": "stdout",
     "output_type": "stream",
     "text": [
      "Top-5 accuracy (quantized): 51.00%\n"
     ]
    },
    {
     "name": "stderr",
     "output_type": "stream",
     "text": [
      "2023-02-14 13:43:37.980713: I tensorflow/core/common_runtime/executor.cc:1197] [/device:CPU:0] (DEBUG INFO) Executor start aborting (this does not indicate an error and you can ignore this message): INVALID_ARGUMENT: You must feed a value for placeholder tensor 'Placeholder/_2' with dtype string and shape [1]\n",
      "\t [[{{node Placeholder/_2}}]]\n",
      "2023-02-14 13:43:37.980955: I tensorflow/core/common_runtime/executor.cc:1197] [/device:CPU:0] (DEBUG INFO) Executor start aborting (this does not indicate an error and you can ignore this message): INVALID_ARGUMENT: You must feed a value for placeholder tensor 'Placeholder/_2' with dtype string and shape [1]\n",
      "\t [[{{node Placeholder/_2}}]]\n"
     ]
    }
   ],
   "source": [
    "eval_tflite(quantized_model, ds)"
   ]
  },
  {
   "cell_type": "markdown",
   "metadata": {
    "id": "Tblkk3cxxpuw"
   },
   "source": [
    "We can see that the original model has a much higher top-5 accuracy for our\n",
    "small dataset, while the quantized model has a significant accuracy loss."
   ]
  },
  {
   "cell_type": "markdown",
   "metadata": {
    "id": "dBBcfCQw_Wqd"
   },
   "source": [
    "### Step 1. Debugger preparation\n",
    "\n",
    "Easiest way to use the quantization debugger is to provide\n",
    "`tf.lite.TFLiteConverter` that you have been using to quantize the model."
   ]
  },
  {
   "cell_type": "code",
   "execution_count": 8,
   "metadata": {
    "execution": {
     "iopub.execute_input": "2022-10-20T13:30:28.234250Z",
     "iopub.status.busy": "2022-10-20T13:30:28.233647Z",
     "iopub.status.idle": "2022-10-20T13:30:42.071558Z",
     "shell.execute_reply": "2022-10-20T13:30:42.070789Z"
    },
    "id": "NOByihbD_NZZ"
   },
   "outputs": [
    {
     "name": "stderr",
     "output_type": "stream",
     "text": [
      "WARNING:absl:Found untraced functions such as _update_step_xla while saving (showing 1 of 1). These functions will not be directly callable after loading.\n"
     ]
    },
    {
     "name": "stdout",
     "output_type": "stream",
     "text": [
      "INFO:tensorflow:Assets written to: /tmp/tmpscrhcoj5/assets\n"
     ]
    },
    {
     "name": "stderr",
     "output_type": "stream",
     "text": [
      "INFO:tensorflow:Assets written to: /tmp/tmpscrhcoj5/assets\n",
      "/home/ehsan/anaconda3/envs/Quantize/lib/python3.10/site-packages/tensorflow/lite/python/convert.py:789: UserWarning: Statistics for quantized inputs were expected, but not specified; continuing anyway.\n",
      "  warnings.warn(\"Statistics for quantized inputs were expected, but not \"\n",
      "2023-02-14 13:44:48.369360: W tensorflow/compiler/mlir/lite/python/tf_tfl_flatbuffer_helpers.cc:364] Ignored output_format.\n",
      "2023-02-14 13:44:48.369384: W tensorflow/compiler/mlir/lite/python/tf_tfl_flatbuffer_helpers.cc:367] Ignored drop_control_dependency.\n",
      "2023-02-14 13:44:48.369548: I tensorflow/cc/saved_model/reader.cc:45] Reading SavedModel from: /tmp/tmpscrhcoj5\n",
      "2023-02-14 13:44:48.382935: I tensorflow/cc/saved_model/reader.cc:89] Reading meta graph with tags { serve }\n",
      "2023-02-14 13:44:48.382961: I tensorflow/cc/saved_model/reader.cc:130] Reading SavedModel debug info (if present) from: /tmp/tmpscrhcoj5\n",
      "2023-02-14 13:44:48.417324: I tensorflow/cc/saved_model/loader.cc:231] Restoring SavedModel bundle.\n",
      "2023-02-14 13:44:48.647883: I tensorflow/cc/saved_model/loader.cc:215] Running initialization op on SavedModel bundle at path: /tmp/tmpscrhcoj5\n",
      "2023-02-14 13:44:48.721687: I tensorflow/cc/saved_model/loader.cc:314] SavedModel load for tags { serve }; Status: success: OK. Took 352138 microseconds.\n",
      "2023-02-14 13:44:49.098490: I tensorflow/compiler/mlir/lite/flatbuffer_export.cc:2116] Estimated count of arithmetic ops: 115.112 M  ops, equivalently 57.556 M  MACs\n",
      "2023-02-14 13:44:49.154549: I tensorflow/core/common_runtime/executor.cc:1197] [/device:CPU:0] (DEBUG INFO) Executor start aborting (this does not indicate an error and you can ignore this message): INVALID_ARGUMENT: You must feed a value for placeholder tensor 'Placeholder/_0' with dtype string and shape [1]\n",
      "\t [[{{node Placeholder/_0}}]]\n",
      "2023-02-14 13:44:49.154997: I tensorflow/core/common_runtime/executor.cc:1197] [/device:CPU:0] (DEBUG INFO) Executor start aborting (this does not indicate an error and you can ignore this message): INVALID_ARGUMENT: You must feed a value for placeholder tensor 'Placeholder/_3' with dtype int64 and shape [1]\n",
      "\t [[{{node Placeholder/_3}}]]\n",
      "fully_quantize: 0, inference_type: 6, input_inference_type: FLOAT32, output_inference_type: FLOAT32\n",
      "2023-02-14 13:44:52.193496: I tensorflow/compiler/mlir/lite/flatbuffer_export.cc:2116] Estimated count of arithmetic ops: 230.224 M  ops, equivalently 115.112 M  MACs\n"
     ]
    }
   ],
   "source": [
    "converter = tf.lite.TFLiteConverter.from_keras_model(model)\n",
    "converter.optimizations = [tf.lite.Optimize.DEFAULT]\n",
    "converter.representative_dataset = representative_dataset(ds)\n",
    "\n",
    "# my_debug_dataset should have the same format as my_representative_dataset\n",
    "debugger = tf.lite.experimental.QuantizationDebugger(\n",
    "    converter=converter, debug_dataset=representative_dataset(ds))"
   ]
  },
  {
   "cell_type": "markdown",
   "metadata": {
    "id": "9vR1IIrmQS9W"
   },
   "source": [
    "### Step 2. Running the debugger and getting the results\n",
    "\n",
    "When you call `QuantizationDebugger.run()`, the debugger will log differences\n",
    "between float tensors and quantized tensors for the same op location, and\n",
    "process them with given metrics."
   ]
  },
  {
   "cell_type": "code",
   "execution_count": 9,
   "metadata": {
    "execution": {
     "iopub.execute_input": "2022-10-20T13:30:42.075288Z",
     "iopub.status.busy": "2022-10-20T13:30:42.075028Z",
     "iopub.status.idle": "2022-10-20T13:30:47.749050Z",
     "shell.execute_reply": "2022-10-20T13:30:47.748290Z"
    },
    "id": "HsUM54g-_E52"
   },
   "outputs": [
    {
     "name": "stderr",
     "output_type": "stream",
     "text": [
      "2023-02-14 13:45:02.094226: I tensorflow/core/common_runtime/executor.cc:1197] [/device:CPU:0] (DEBUG INFO) Executor start aborting (this does not indicate an error and you can ignore this message): INVALID_ARGUMENT: You must feed a value for placeholder tensor 'Placeholder/_1' with dtype string and shape [1]\n",
      "\t [[{{node Placeholder/_1}}]]\n",
      "2023-02-14 13:45:02.094692: I tensorflow/core/common_runtime/executor.cc:1197] [/device:CPU:0] (DEBUG INFO) Executor start aborting (this does not indicate an error and you can ignore this message): INVALID_ARGUMENT: You must feed a value for placeholder tensor 'Placeholder/_0' with dtype string and shape [1]\n",
      "\t [[{{node Placeholder/_0}}]]\n"
     ]
    }
   ],
   "source": [
    "debugger.run()"
   ]
  },
  {
   "cell_type": "markdown",
   "metadata": {
    "id": "yQpX_SBUQXvr"
   },
   "source": [
    "The processed metrics can be accessed with\n",
    "`QuantizationDebugger.layer_statistics`, or can be dumped to a text file in CSV\n",
    "format with `QuantizationDebugger.layer_statistics_dump()`."
   ]
  },
  {
   "cell_type": "code",
   "execution_count": 10,
   "metadata": {
    "execution": {
     "iopub.execute_input": "2022-10-20T13:30:47.753826Z",
     "iopub.status.busy": "2022-10-20T13:30:47.753567Z",
     "iopub.status.idle": "2022-10-20T13:30:47.761810Z",
     "shell.execute_reply": "2022-10-20T13:30:47.761215Z"
    },
    "id": "U-AGYUAbQUmx"
   },
   "outputs": [],
   "source": [
    "RESULTS_FILE = './debugger_results.csv'\n",
    "with open(RESULTS_FILE, 'w') as f:\n",
    "  debugger.layer_statistics_dump(f)"
   ]
  },
  {
   "cell_type": "code",
   "execution_count": 12,
   "metadata": {
    "execution": {
     "iopub.execute_input": "2022-10-20T13:30:47.765065Z",
     "iopub.status.busy": "2022-10-20T13:30:47.764846Z",
     "iopub.status.idle": "2022-10-20T13:30:48.010747Z",
     "shell.execute_reply": "2022-10-20T13:30:48.009765Z"
    },
    "id": "LQzEi6VnQaen"
   },
   "outputs": [
    {
     "name": "stdout",
     "output_type": "stream",
     "text": [
      "op_name,tensor_idx,num_elements,stddev,mean_error,max_abs_error,mean_squared_error,scale,zero_point,tensor_name\n",
      "MUL,227,150528.0,0.0021623536,-2.0737803e-06,0.0039216112,4.713237e-06,0.007843138,-128,predict/hub_input/Mul;predict/hub_input/Mul\n",
      "SUB,231,150528.0,3.170321e-08,0.003921518,0.0039216173,1.5378308e-05,0.007843138,-1,predict/hub_input/Sub;predict/hub_input/Sub\n",
      "CONV_2D,235,200704.0,0.041487794,0.00021645021,0.10227395,0.001726395,0.14247456,-30,predict/MobilenetV3/Conv/BatchNorm/FusedBatchNormV3;predict/MobilenetV3/Conv/BatchNorm/FusedBatchNormV3;predict/MobilenetV3/expanded_conv/project/Conv2D;predict/MobilenetV3/expanded_conv/project/Conv2D;predict/MobilenetV3/Conv/Conv2D;predict/MobilenetV3/Conv/Conv2D\n",
      "HARD_SWISH,239,200704.0,0.029812379,-0.00047046941,0.045248985,0.000893142,0.08929687,-124,predict/MobilenetV3/Conv/hard_swish/mul_1;predict/MobilenetV3/Conv/hard_swish/mul_1;predict/MobilenetV3/Conv/hard_swish/add/y;predict/MobilenetV3/Conv/hard_swish/add/y;predict/MobilenetV3/Conv/hard_swish/Relu6;predict/MobilenetV3/Conv/hard_swish/Relu6;predict/MobilenetV3/Conv/hard_swish/add;predict/MobilenetV3/Conv/hard_swish/add;predict/MobilenetV3/Conv/hard_swish/mul;predict/MobilenetV3/Conv/hard_swish/mul;predict/MobilenetV3/Conv/hard_swish/mul_1/y;predict/MobilenetV3/Conv/hard_swish/mul_1/y\n",
      "DEPTHWISE_CONV_2D,243,50176.0,0.21766528,-0.022612955,0.72389275,0.04796089,0.5087459,-128,predict/MobilenetV3/expanded_conv/depthwise/Relu;predict/MobilenetV3/expanded_conv/depthwise/Relu;predict/MobilenetV3/expanded_conv/depthwise/BatchNorm/FusedBatchNormV3;predict/MobilenetV3/expanded_conv/depthwise/BatchNorm/FusedBatchNormV3;predict/MobilenetV3/expanded_conv/depthwise/depthwise;predict/MobilenetV3/expanded_conv/depthwise/depthwise;predict/MobilenetV3/expanded_conv/project/Conv2D;predict/MobilenetV3/expanded_conv/project/Conv2D\n",
      "MEAN,247,16.0,0.028642809,0.00038988946,0.0488894,0.0008962434,0.10327542,-128,predict/MobilenetV3/expanded_conv/squeeze_excite/Mean;predict/MobilenetV3/expanded_conv/squeeze_excite/Mean\n",
      "CONV_2D,251,8.0,0.010389271,-0.0002389279,0.021622978,0.00012997774,0.048884314,-128,predict/MobilenetV3/expanded_conv/squeeze_excite/Conv/Relu;predict/MobilenetV3/expanded_conv/squeeze_excite/Conv/Relu;predict/MobilenetV3/expanded_conv/squeeze_excite/Conv/BiasAdd;predict/MobilenetV3/expanded_conv/squeeze_excite/Conv/BiasAdd;predict/MobilenetV3/expanded_conv/squeeze_excite/Conv/Conv2D;predict/MobilenetV3/expanded_conv/squeeze_excite/Conv/Conv2D;predict/MobilenetV3/expanded_conv/squeeze_excite/Conv/BiasAdd/ReadVariableOp;predict/MobilenetV3/expanded_conv/squeeze_excite/Conv/BiasAdd/ReadVariableOp\n",
      "CONV_2D,255,16.0,0.0,0.0,0.0,0.0,0.023529412,-128,predict/MobilenetV3/expanded_conv/squeeze_excite/Conv_1/Relu6;predict/MobilenetV3/expanded_conv/squeeze_excite/Conv_1/Relu6;predict/MobilenetV3/expanded_conv/squeeze_excite/Conv_1/add;predict/MobilenetV3/expanded_conv/squeeze_excite/Conv_1/add;predict/MobilenetV3/expanded_conv/squeeze_excite/Conv_1/BiasAdd/ReadVariableOp;predict/MobilenetV3/expanded_conv/squeeze_excite/Conv_1/BiasAdd/ReadVariableOp;predict/MobilenetV3/expanded_conv/squeeze_excite/Conv_1/BiasAdd;predict/MobilenetV3/expanded_conv/squeeze_excite/Conv_1/BiasAdd;predict/MobilenetV3/expanded_conv/project/Conv2D;predict/MobilenetV3/expanded_conv/project/Conv2D;predict/MobilenetV3/expanded_conv/squeeze_excite/Conv_1/Conv2D;predict/MobilenetV3/expanded_conv/squeeze_excite/Conv_1/Conv2D;predict/MobilenetV3/Conv/hard_swish/add/y;predict/MobilenetV3/Conv/hard_swish/add/y1\n",
      "MUL,259,16.0,0.0,0.0,0.0,0.0,0.003921647,-128,predict/MobilenetV3/expanded_conv/squeeze_excite/Conv_1/mul;predict/MobilenetV3/expanded_conv/squeeze_excite/Conv_1/mul\n"
     ]
    }
   ],
   "source": [
    "!head ./debugger_results.csv"
   ]
  },
  {
   "cell_type": "markdown",
   "metadata": {
    "id": "4np7VqU-Qfke"
   },
   "source": [
    "For each row in the dump, the op name and index comes first, followed by\n",
    "quantization parameters and error metrics (including\n",
    "[user-defined error metrics](#custom-metrics), if any). The resulting CSV file\n",
    "can be used to pick problematic layers with large quantization error metrics.\n",
    "\n",
    "With pandas or other data processing libraries, we can inspect detailed\n",
    "per-layer error metrics."
   ]
  },
  {
   "cell_type": "code",
   "execution_count": 13,
   "metadata": {
    "execution": {
     "iopub.execute_input": "2022-10-20T13:30:48.015763Z",
     "iopub.status.busy": "2022-10-20T13:30:48.015054Z",
     "iopub.status.idle": "2022-10-20T13:30:48.042182Z",
     "shell.execute_reply": "2022-10-20T13:30:48.041537Z"
    },
    "id": "XUcSqYFGQb-f"
   },
   "outputs": [
    {
     "data": {
      "text/html": [
       "<div>\n",
       "<style scoped>\n",
       "    .dataframe tbody tr th:only-of-type {\n",
       "        vertical-align: middle;\n",
       "    }\n",
       "\n",
       "    .dataframe tbody tr th {\n",
       "        vertical-align: top;\n",
       "    }\n",
       "\n",
       "    .dataframe thead th {\n",
       "        text-align: right;\n",
       "    }\n",
       "</style>\n",
       "<table border=\"1\" class=\"dataframe\">\n",
       "  <thead>\n",
       "    <tr style=\"text-align: right;\">\n",
       "      <th></th>\n",
       "      <th>op_name</th>\n",
       "      <th>tensor_idx</th>\n",
       "      <th>num_elements</th>\n",
       "      <th>stddev</th>\n",
       "      <th>mean_error</th>\n",
       "      <th>max_abs_error</th>\n",
       "      <th>mean_squared_error</th>\n",
       "      <th>scale</th>\n",
       "      <th>zero_point</th>\n",
       "      <th>tensor_name</th>\n",
       "    </tr>\n",
       "  </thead>\n",
       "  <tbody>\n",
       "    <tr>\n",
       "      <th>0</th>\n",
       "      <td>MUL</td>\n",
       "      <td>227</td>\n",
       "      <td>150528.0</td>\n",
       "      <td>2.162354e-03</td>\n",
       "      <td>-0.000002</td>\n",
       "      <td>0.003922</td>\n",
       "      <td>0.000005</td>\n",
       "      <td>0.007843</td>\n",
       "      <td>-128</td>\n",
       "      <td>predict/hub_input/Mul;predict/hub_input/Mul</td>\n",
       "    </tr>\n",
       "    <tr>\n",
       "      <th>1</th>\n",
       "      <td>SUB</td>\n",
       "      <td>231</td>\n",
       "      <td>150528.0</td>\n",
       "      <td>3.170321e-08</td>\n",
       "      <td>0.003922</td>\n",
       "      <td>0.003922</td>\n",
       "      <td>0.000015</td>\n",
       "      <td>0.007843</td>\n",
       "      <td>-1</td>\n",
       "      <td>predict/hub_input/Sub;predict/hub_input/Sub</td>\n",
       "    </tr>\n",
       "    <tr>\n",
       "      <th>2</th>\n",
       "      <td>CONV_2D</td>\n",
       "      <td>235</td>\n",
       "      <td>200704.0</td>\n",
       "      <td>4.148779e-02</td>\n",
       "      <td>0.000216</td>\n",
       "      <td>0.102274</td>\n",
       "      <td>0.001726</td>\n",
       "      <td>0.142475</td>\n",
       "      <td>-30</td>\n",
       "      <td>predict/MobilenetV3/Conv/BatchNorm/FusedBatchN...</td>\n",
       "    </tr>\n",
       "    <tr>\n",
       "      <th>3</th>\n",
       "      <td>HARD_SWISH</td>\n",
       "      <td>239</td>\n",
       "      <td>200704.0</td>\n",
       "      <td>2.981238e-02</td>\n",
       "      <td>-0.000470</td>\n",
       "      <td>0.045249</td>\n",
       "      <td>0.000893</td>\n",
       "      <td>0.089297</td>\n",
       "      <td>-124</td>\n",
       "      <td>predict/MobilenetV3/Conv/hard_swish/mul_1;pred...</td>\n",
       "    </tr>\n",
       "    <tr>\n",
       "      <th>4</th>\n",
       "      <td>DEPTHWISE_CONV_2D</td>\n",
       "      <td>243</td>\n",
       "      <td>50176.0</td>\n",
       "      <td>2.176653e-01</td>\n",
       "      <td>-0.022613</td>\n",
       "      <td>0.723893</td>\n",
       "      <td>0.047961</td>\n",
       "      <td>0.508746</td>\n",
       "      <td>-128</td>\n",
       "      <td>predict/MobilenetV3/expanded_conv/depthwise/Re...</td>\n",
       "    </tr>\n",
       "  </tbody>\n",
       "</table>\n",
       "</div>"
      ],
      "text/plain": [
       "             op_name  tensor_idx  num_elements        stddev  mean_error  \\\n",
       "0                MUL         227      150528.0  2.162354e-03   -0.000002   \n",
       "1                SUB         231      150528.0  3.170321e-08    0.003922   \n",
       "2            CONV_2D         235      200704.0  4.148779e-02    0.000216   \n",
       "3         HARD_SWISH         239      200704.0  2.981238e-02   -0.000470   \n",
       "4  DEPTHWISE_CONV_2D         243       50176.0  2.176653e-01   -0.022613   \n",
       "\n",
       "   max_abs_error  mean_squared_error     scale  zero_point  \\\n",
       "0       0.003922            0.000005  0.007843        -128   \n",
       "1       0.003922            0.000015  0.007843          -1   \n",
       "2       0.102274            0.001726  0.142475         -30   \n",
       "3       0.045249            0.000893  0.089297        -124   \n",
       "4       0.723893            0.047961  0.508746        -128   \n",
       "\n",
       "                                         tensor_name  \n",
       "0        predict/hub_input/Mul;predict/hub_input/Mul  \n",
       "1        predict/hub_input/Sub;predict/hub_input/Sub  \n",
       "2  predict/MobilenetV3/Conv/BatchNorm/FusedBatchN...  \n",
       "3  predict/MobilenetV3/Conv/hard_swish/mul_1;pred...  \n",
       "4  predict/MobilenetV3/expanded_conv/depthwise/Re...  "
      ]
     },
     "execution_count": 13,
     "metadata": {},
     "output_type": "execute_result"
    }
   ],
   "source": [
    "layer_stats = pd.read_csv(RESULTS_FILE)\n",
    "layer_stats.head()"
   ]
  },
  {
   "cell_type": "markdown",
   "metadata": {
    "id": "7C_oHxWFOV6M"
   },
   "source": [
    "### Step 3. Data analysis\n",
    "\n",
    "There are various ways to analyze the resulting. First, let's add some useful\n",
    "metrics derived from the debugger's outputs. (`scale` means the quantization\n",
    "scale factor for each tensor.)\n",
    "\n",
    "*   Range (`256 / scale`)\n",
    "*   RMSE / scale (`sqrt(mean_squared_error) / scale`)\n",
    "\n",
    "The `RMSE / scale` is close to `1 / sqrt(12)` (~ 0.289) when quantized\n",
    "distribution is similar to the original float distribution, indicating a good\n",
    "quantized model. The larger the value is, it's more likely for the layer not\n",
    "being quantized well."
   ]
  },
  {
   "cell_type": "code",
   "execution_count": 14,
   "metadata": {
    "execution": {
     "iopub.execute_input": "2022-10-20T13:30:48.046450Z",
     "iopub.status.busy": "2022-10-20T13:30:48.045770Z",
     "iopub.status.idle": "2022-10-20T13:30:48.058168Z",
     "shell.execute_reply": "2022-10-20T13:30:48.057520Z"
    },
    "id": "mwviORyJN6e5"
   },
   "outputs": [
    {
     "data": {
      "text/html": [
       "<div>\n",
       "<style scoped>\n",
       "    .dataframe tbody tr th:only-of-type {\n",
       "        vertical-align: middle;\n",
       "    }\n",
       "\n",
       "    .dataframe tbody tr th {\n",
       "        vertical-align: top;\n",
       "    }\n",
       "\n",
       "    .dataframe thead th {\n",
       "        text-align: right;\n",
       "    }\n",
       "</style>\n",
       "<table border=\"1\" class=\"dataframe\">\n",
       "  <thead>\n",
       "    <tr style=\"text-align: right;\">\n",
       "      <th></th>\n",
       "      <th>op_name</th>\n",
       "      <th>range</th>\n",
       "      <th>rmse/scale</th>\n",
       "    </tr>\n",
       "  </thead>\n",
       "  <tbody>\n",
       "    <tr>\n",
       "      <th>0</th>\n",
       "      <td>MUL</td>\n",
       "      <td>2.000000</td>\n",
       "      <td>0.276802</td>\n",
       "    </tr>\n",
       "    <tr>\n",
       "      <th>1</th>\n",
       "      <td>SUB</td>\n",
       "      <td>2.000000</td>\n",
       "      <td>0.499994</td>\n",
       "    </tr>\n",
       "    <tr>\n",
       "      <th>2</th>\n",
       "      <td>CONV_2D</td>\n",
       "      <td>36.331013</td>\n",
       "      <td>0.291630</td>\n",
       "    </tr>\n",
       "    <tr>\n",
       "      <th>3</th>\n",
       "      <td>HARD_SWISH</td>\n",
       "      <td>22.770702</td>\n",
       "      <td>0.334676</td>\n",
       "    </tr>\n",
       "    <tr>\n",
       "      <th>4</th>\n",
       "      <td>DEPTHWISE_CONV_2D</td>\n",
       "      <td>129.730204</td>\n",
       "      <td>0.430470</td>\n",
       "    </tr>\n",
       "  </tbody>\n",
       "</table>\n",
       "</div>"
      ],
      "text/plain": [
       "             op_name       range  rmse/scale\n",
       "0                MUL    2.000000    0.276802\n",
       "1                SUB    2.000000    0.499994\n",
       "2            CONV_2D   36.331013    0.291630\n",
       "3         HARD_SWISH   22.770702    0.334676\n",
       "4  DEPTHWISE_CONV_2D  129.730204    0.430470"
      ]
     },
     "execution_count": 14,
     "metadata": {},
     "output_type": "execute_result"
    }
   ],
   "source": [
    "layer_stats['range'] = 255.0 * layer_stats['scale']\n",
    "layer_stats['rmse/scale'] = layer_stats.apply(\n",
    "    lambda row: np.sqrt(row['mean_squared_error']) / row['scale'], axis=1)\n",
    "layer_stats[['op_name', 'range', 'rmse/scale']].head()"
   ]
  },
  {
   "cell_type": "code",
   "execution_count": 15,
   "metadata": {
    "execution": {
     "iopub.execute_input": "2022-10-20T13:30:48.061772Z",
     "iopub.status.busy": "2022-10-20T13:30:48.061290Z",
     "iopub.status.idle": "2022-10-20T13:30:48.548379Z",
     "shell.execute_reply": "2022-10-20T13:30:48.547750Z"
    },
    "id": "oAAv35CdPvc4"
   },
   "outputs": [
    {
     "data": {
      "image/png": "[encoded data removed]",
      "text/plain": [
       "<Figure size 1500x500 with 2 Axes>"
      ]
     },
     "metadata": {},
     "output_type": "display_data"
    }
   ],
   "source": [
    "plt.figure(figsize=(15, 5))\n",
    "ax1 = plt.subplot(121)\n",
    "ax1.bar(np.arange(len(layer_stats)), layer_stats['range'])\n",
    "ax1.set_ylabel('range')\n",
    "ax2 = plt.subplot(122)\n",
    "ax2.bar(np.arange(len(layer_stats)), layer_stats['rmse/scale'])\n",
    "ax2.set_ylabel('rmse/scale')\n",
    "plt.show()"
   ]
  },
  {
   "cell_type": "markdown",
   "metadata": {
    "id": "8pqUQvRUWB3Q"
   },
   "source": [
    "There are many layers with wide ranges, and some layers that have high\n",
    "`RMSE/scale` values. Let's get the layers with high error metrics."
   ]
  },
  {
   "cell_type": "code",
   "execution_count": 16,
   "metadata": {
    "execution": {
     "iopub.execute_input": "2022-10-20T13:30:48.552424Z",
     "iopub.status.busy": "2022-10-20T13:30:48.552186Z",
     "iopub.status.idle": "2022-10-20T13:30:48.561709Z",
     "shell.execute_reply": "2022-10-20T13:30:48.561084Z"
    },
    "id": "UqFsUX4_Q-cE"
   },
   "outputs": [
    {
     "data": {
      "text/html": [
       "<div>\n",
       "<style scoped>\n",
       "    .dataframe tbody tr th:only-of-type {\n",
       "        vertical-align: middle;\n",
       "    }\n",
       "\n",
       "    .dataframe tbody tr th {\n",
       "        vertical-align: top;\n",
       "    }\n",
       "\n",
       "    .dataframe thead th {\n",
       "        text-align: right;\n",
       "    }\n",
       "</style>\n",
       "<table border=\"1\" class=\"dataframe\">\n",
       "  <thead>\n",
       "    <tr style=\"text-align: right;\">\n",
       "      <th></th>\n",
       "      <th>op_name</th>\n",
       "      <th>range</th>\n",
       "      <th>rmse/scale</th>\n",
       "      <th>tensor_name</th>\n",
       "    </tr>\n",
       "  </thead>\n",
       "  <tbody>\n",
       "    <tr>\n",
       "      <th>32</th>\n",
       "      <td>MEAN</td>\n",
       "      <td>3.300810</td>\n",
       "      <td>0.771602</td>\n",
       "      <td>predict/MobilenetV3/expanded_conv_4/squeeze_ex...</td>\n",
       "    </tr>\n",
       "    <tr>\n",
       "      <th>33</th>\n",
       "      <td>CONV_2D</td>\n",
       "      <td>2.866467</td>\n",
       "      <td>0.784422</td>\n",
       "      <td>predict/MobilenetV3/expanded_conv_4/squeeze_ex...</td>\n",
       "    </tr>\n",
       "    <tr>\n",
       "      <th>55</th>\n",
       "      <td>CONV_2D</td>\n",
       "      <td>0.001957</td>\n",
       "      <td>1.011160</td>\n",
       "      <td>predict/MobilenetV3/expanded_conv_6/squeeze_ex...</td>\n",
       "    </tr>\n",
       "    <tr>\n",
       "      <th>75</th>\n",
       "      <td>MEAN</td>\n",
       "      <td>3.214616</td>\n",
       "      <td>1.051455</td>\n",
       "      <td>predict/MobilenetV3/expanded_conv_8/squeeze_ex...</td>\n",
       "    </tr>\n",
       "  </tbody>\n",
       "</table>\n",
       "</div>"
      ],
      "text/plain": [
       "    op_name     range  rmse/scale  \\\n",
       "32     MEAN  3.300810    0.771602   \n",
       "33  CONV_2D  2.866467    0.784422   \n",
       "55  CONV_2D  0.001957    1.011160   \n",
       "75     MEAN  3.214616    1.051455   \n",
       "\n",
       "                                          tensor_name  \n",
       "32  predict/MobilenetV3/expanded_conv_4/squeeze_ex...  \n",
       "33  predict/MobilenetV3/expanded_conv_4/squeeze_ex...  \n",
       "55  predict/MobilenetV3/expanded_conv_6/squeeze_ex...  \n",
       "75  predict/MobilenetV3/expanded_conv_8/squeeze_ex...  "
      ]
     },
     "execution_count": 16,
     "metadata": {},
     "output_type": "execute_result"
    }
   ],
   "source": [
    "layer_stats[layer_stats['rmse/scale'] > 0.7][[\n",
    "    'op_name', 'range', 'rmse/scale', 'tensor_name'\n",
    "]]"
   ]
  },
  {
   "cell_type": "markdown",
   "metadata": {
    "id": "DHeALFTGWl_e"
   },
   "source": [
    "With these layers, you can try selective quantization to see if not quantizing\n",
    "those layers improves model quality."
   ]
  },
  {
   "cell_type": "code",
   "execution_count": 18,
   "metadata": {
    "execution": {
     "iopub.execute_input": "2022-10-20T13:30:48.565327Z",
     "iopub.status.busy": "2022-10-20T13:30:48.564932Z",
     "iopub.status.idle": "2022-10-20T13:30:48.568587Z",
     "shell.execute_reply": "2022-10-20T13:30:48.568005Z"
    },
    "id": "cvdkjsbwYC6e"
   },
   "outputs": [],
   "source": [
    "suspected_layers = list(\n",
    "    layer_stats[layer_stats['rmse/scale'] > 0.7]['tensor_name'])"
   ]
  },
  {
   "cell_type": "markdown",
   "metadata": {
    "id": "W6RQw9JobOTR"
   },
   "source": [
    "In addition to these, skipping quantization for the first few layers also helps\n",
    "improving quantized model's quality."
   ]
  },
  {
   "cell_type": "code",
   "execution_count": 19,
   "metadata": {
    "execution": {
     "iopub.execute_input": "2022-10-20T13:30:48.572427Z",
     "iopub.status.busy": "2022-10-20T13:30:48.572054Z",
     "iopub.status.idle": "2022-10-20T13:30:48.575582Z",
     "shell.execute_reply": "2022-10-20T13:30:48.575022Z"
    },
    "id": "ikF2bp6NZcXN"
   },
   "outputs": [],
   "source": [
    "suspected_layers.extend(list(layer_stats[:5]['tensor_name']))"
   ]
  },
  {
   "cell_type": "markdown",
   "metadata": {
    "id": "1DfT78w6W6Li"
   },
   "source": [
    "## Selective Quantization"
   ]
  },
  {
   "cell_type": "markdown",
   "metadata": {
    "id": "-pubC-01cGEH"
   },
   "source": [
    "Selective quantization skips quantization for some nodes, so that the\n",
    "calculation can happen in the original floating-point domain. When correct\n",
    "layers are skipped, we can expect some model quality recovery at the cost of\n",
    "increased latency and model size.\n",
    "\n",
    "However, if you're planning to run quantized models on integer-only accelerators\n",
    "(e.g. Hexagon DSP, EdgeTPU), selective quantization would cause fragmentation of\n",
    "the model and would result in slower inference latency mainly caused by data\n",
    "transfer cost between CPU and those accelerators. To prevent this, you can\n",
    "consider running\n",
    "[quantization aware training](https://www.tensorflow.org/model_optimization/guide/quantization/training)\n",
    "to keep all the layers in integer while preserving the model accuracy."
   ]
  },
  {
   "cell_type": "markdown",
   "metadata": {
    "id": "EQFBfR7YW-oh"
   },
   "source": [
    "Quantization debugger's option accepts `denylisted_nodes` and `denylisted_ops`\n",
    "options for skipping quantization for specific layers, or all instances of\n",
    "specific ops. Using `suspected_layers` we prepared from the previous step, we\n",
    "can use quantization debugger to get a selectively quantized model."
   ]
  },
  {
   "cell_type": "code",
   "execution_count": 20,
   "metadata": {
    "execution": {
     "iopub.execute_input": "2022-10-20T13:30:48.579742Z",
     "iopub.status.busy": "2022-10-20T13:30:48.579211Z",
     "iopub.status.idle": "2022-10-20T13:31:03.484720Z",
     "shell.execute_reply": "2022-10-20T13:31:03.483903Z"
    },
    "id": "K5KD0JAEbpsv"
   },
   "outputs": [
    {
     "name": "stderr",
     "output_type": "stream",
     "text": [
      "WARNING:absl:Found untraced functions such as _update_step_xla while saving (showing 1 of 1). These functions will not be directly callable after loading.\n"
     ]
    },
    {
     "name": "stdout",
     "output_type": "stream",
     "text": [
      "INFO:tensorflow:Assets written to: /tmp/tmpnh4uk9gp/assets\n"
     ]
    },
    {
     "name": "stderr",
     "output_type": "stream",
     "text": [
      "INFO:tensorflow:Assets written to: /tmp/tmpnh4uk9gp/assets\n",
      "/home/ehsan/anaconda3/envs/Quantize/lib/python3.10/site-packages/tensorflow/lite/python/convert.py:789: UserWarning: Statistics for quantized inputs were expected, but not specified; continuing anyway.\n",
      "  warnings.warn(\"Statistics for quantized inputs were expected, but not \"\n",
      "2023-02-14 14:28:15.517082: W tensorflow/compiler/mlir/lite/python/tf_tfl_flatbuffer_helpers.cc:364] Ignored output_format.\n",
      "2023-02-14 14:28:15.517108: W tensorflow/compiler/mlir/lite/python/tf_tfl_flatbuffer_helpers.cc:367] Ignored drop_control_dependency.\n",
      "2023-02-14 14:28:15.517299: I tensorflow/cc/saved_model/reader.cc:45] Reading SavedModel from: /tmp/tmpnh4uk9gp\n",
      "2023-02-14 14:28:15.528689: I tensorflow/cc/saved_model/reader.cc:89] Reading meta graph with tags { serve }\n",
      "2023-02-14 14:28:15.528718: I tensorflow/cc/saved_model/reader.cc:130] Reading SavedModel debug info (if present) from: /tmp/tmpnh4uk9gp\n",
      "2023-02-14 14:28:15.563578: I tensorflow/cc/saved_model/loader.cc:231] Restoring SavedModel bundle.\n",
      "2023-02-14 14:28:15.787251: I tensorflow/cc/saved_model/loader.cc:215] Running initialization op on SavedModel bundle at path: /tmp/tmpnh4uk9gp\n",
      "2023-02-14 14:28:15.861552: I tensorflow/cc/saved_model/loader.cc:314] SavedModel load for tags { serve }; Status: success: OK. Took 344252 microseconds.\n",
      "2023-02-14 14:28:16.248950: I tensorflow/compiler/mlir/lite/flatbuffer_export.cc:2116] Estimated count of arithmetic ops: 115.112 M  ops, equivalently 57.556 M  MACs\n",
      "2023-02-14 14:28:16.313874: I tensorflow/core/common_runtime/executor.cc:1197] [/device:CPU:0] (DEBUG INFO) Executor start aborting (this does not indicate an error and you can ignore this message): INVALID_ARGUMENT: You must feed a value for placeholder tensor 'Placeholder/_0' with dtype string and shape [1]\n",
      "\t [[{{node Placeholder/_0}}]]\n",
      "2023-02-14 14:28:16.314312: I tensorflow/core/common_runtime/executor.cc:1197] [/device:CPU:0] (DEBUG INFO) Executor start aborting (this does not indicate an error and you can ignore this message): INVALID_ARGUMENT: You must feed a value for placeholder tensor 'Placeholder/_1' with dtype string and shape [1]\n",
      "\t [[{{node Placeholder/_1}}]]\n",
      "fully_quantize: 0, inference_type: 6, input_inference_type: FLOAT32, output_inference_type: FLOAT32\n",
      "2023-02-14 14:28:19.379990: I tensorflow/compiler/mlir/lite/flatbuffer_export.cc:2116] Estimated count of arithmetic ops: 217.892 M  ops, equivalently 108.946 M  MACs\n"
     ]
    }
   ],
   "source": [
    "debug_options = tf.lite.experimental.QuantizationDebugOptions(\n",
    "    denylisted_nodes=suspected_layers)\n",
    "debugger = tf.lite.experimental.QuantizationDebugger(\n",
    "    converter=converter,\n",
    "    debug_dataset=representative_dataset(ds),\n",
    "    debug_options=debug_options)"
   ]
  },
  {
   "cell_type": "code",
   "execution_count": 22,
   "metadata": {
    "execution": {
     "iopub.execute_input": "2022-10-20T13:31:03.489526Z",
     "iopub.status.busy": "2022-10-20T13:31:03.488678Z",
     "iopub.status.idle": "2022-10-20T13:31:06.218091Z",
     "shell.execute_reply": "2022-10-20T13:31:06.217292Z"
    },
    "id": "pfj9gzv4b7h4"
   },
   "outputs": [
    {
     "name": "stderr",
     "output_type": "stream",
     "text": [
      "fully_quantize: 0, inference_type: 6, input_inference_type: FLOAT32, output_inference_type: FLOAT32\n",
      "2023-02-14 14:30:07.628801: I tensorflow/compiler/mlir/lite/flatbuffer_export.cc:2116] Estimated count of arithmetic ops: 115.112 M  ops, equivalently 57.556 M  MACs\n",
      "2023-02-14 14:30:07.639183: I tensorflow/core/common_runtime/executor.cc:1197] [/device:CPU:0] (DEBUG INFO) Executor start aborting (this does not indicate an error and you can ignore this message): INVALID_ARGUMENT: You must feed a value for placeholder tensor 'Placeholder/_1' with dtype string and shape [1]\n",
      "\t [[{{node Placeholder/_1}}]]\n",
      "2023-02-14 14:30:07.639535: I tensorflow/core/common_runtime/executor.cc:1197] [/device:CPU:0] (DEBUG INFO) Executor start aborting (this does not indicate an error and you can ignore this message): INVALID_ARGUMENT: You must feed a value for placeholder tensor 'Placeholder/_3' with dtype int64 and shape [1]\n",
      "\t [[{{node Placeholder/_3}}]]\n"
     ]
    },
    {
     "name": "stdout",
     "output_type": "stream",
     "text": [
      "Top-5 accuracy (quantized): 65.00%\n"
     ]
    },
    {
     "name": "stderr",
     "output_type": "stream",
     "text": [
      "2023-02-14 14:30:08.420209: I tensorflow/core/common_runtime/executor.cc:1197] [/device:CPU:0] (DEBUG INFO) Executor start aborting (this does not indicate an error and you can ignore this message): INVALID_ARGUMENT: You must feed a value for placeholder tensor 'Placeholder/_0' with dtype string and shape [1]\n",
      "\t [[{{node Placeholder/_0}}]]\n",
      "2023-02-14 14:30:08.420520: I tensorflow/core/common_runtime/executor.cc:1197] [/device:CPU:0] (DEBUG INFO) Executor start aborting (this does not indicate an error and you can ignore this message): INVALID_ARGUMENT: You must feed a value for placeholder tensor 'Placeholder/_4' with dtype int64 and shape [1]\n",
      "\t [[{{node Placeholder/_4}}]]\n"
     ]
    },
    {
     "data": {
      "text/plain": [
       "2981624"
      ]
     },
     "execution_count": 22,
     "metadata": {},
     "output_type": "execute_result"
    }
   ],
   "source": [
    "selective_quantized_model = debugger.get_nondebug_quantized_model()\n",
    "eval_tflite(selective_quantized_model, ds)\n",
    "open('selectiveq.tflite', \"wb\").write(selective_quantized_model)"
   ]
  },
  {
   "cell_type": "markdown",
   "metadata": {
    "id": "1RkfMYSHdtZy"
   },
   "source": [
    "The accuracy is still lower compared to the original float model, but we have\n",
    "notable improvement from the whole quantized model by skipping quantization for\n",
    "~10 layers out of 111 layers.\n",
    "\n",
    "You can also try to not quantized all ops in the same class. For example, to\n",
    "skip quantization for all mean ops, you can pass `MEAN` to `denylisted_ops`."
   ]
  },
  {
   "cell_type": "code",
   "execution_count": 19,
   "metadata": {
    "execution": {
     "iopub.execute_input": "2022-10-20T13:31:06.222084Z",
     "iopub.status.busy": "2022-10-20T13:31:06.221806Z",
     "iopub.status.idle": "2022-10-20T13:31:20.540261Z",
     "shell.execute_reply": "2022-10-20T13:31:20.539481Z"
    },
    "id": "ruUoP7SgcLpO"
   },
   "outputs": [
    {
     "name": "stderr",
     "output_type": "stream",
     "text": [
      "WARNING:absl:Found untraced functions such as _update_step_xla while saving (showing 1 of 1). These functions will not be directly callable after loading.\n"
     ]
    },
    {
     "name": "stdout",
     "output_type": "stream",
     "text": [
      "INFO:tensorflow:Assets written to: /tmpfs/tmp/tmp6ypc8qhf/assets\n"
     ]
    },
    {
     "name": "stderr",
     "output_type": "stream",
     "text": [
      "INFO:tensorflow:Assets written to: /tmpfs/tmp/tmp6ypc8qhf/assets\n"
     ]
    },
    {
     "name": "stderr",
     "output_type": "stream",
     "text": [
      "/tmpfs/src/tf_docs_env/lib/python3.9/site-packages/tensorflow/lite/python/convert.py:765: UserWarning: Statistics for quantized inputs were expected, but not specified; continuing anyway.\n",
      "  warnings.warn(\"Statistics for quantized inputs were expected, but not \"\n"
     ]
    },
    {
     "name": "stderr",
     "output_type": "stream",
     "text": [
      "2022-10-20 13:31:14.254986: W tensorflow/compiler/mlir/lite/python/tf_tfl_flatbuffer_helpers.cc:362] Ignored output_format.\n",
      "2022-10-20 13:31:14.255037: W tensorflow/compiler/mlir/lite/python/tf_tfl_flatbuffer_helpers.cc:365] Ignored drop_control_dependency.\n"
     ]
    },
    {
     "name": "stderr",
     "output_type": "stream",
     "text": [
      "fully_quantize: 0, inference_type: 6, input_inference_type: FLOAT32, output_inference_type: FLOAT32\n"
     ]
    }
   ],
   "source": [
    "debug_options = tf.lite.experimental.QuantizationDebugOptions(\n",
    "    denylisted_ops=['MEAN'])\n",
    "debugger = tf.lite.experimental.QuantizationDebugger(\n",
    "    converter=converter,\n",
    "    debug_dataset=representative_dataset(ds),\n",
    "    debug_options=debug_options)"
   ]
  },
  {
   "cell_type": "code",
   "execution_count": 20,
   "metadata": {
    "execution": {
     "iopub.execute_input": "2022-10-20T13:31:20.544733Z",
     "iopub.status.busy": "2022-10-20T13:31:20.544448Z",
     "iopub.status.idle": "2022-10-20T13:31:23.363244Z",
     "shell.execute_reply": "2022-10-20T13:31:23.362466Z"
    },
    "id": "oY6kb5g_cO4H"
   },
   "outputs": [
    {
     "name": "stderr",
     "output_type": "stream",
     "text": [
      "fully_quantize: 0, inference_type: 6, input_inference_type: FLOAT32, output_inference_type: FLOAT32\n"
     ]
    },
    {
     "name": "stdout",
     "output_type": "stream",
     "text": [
      "Top-5 accuracy (quantized): 51.00%\n"
     ]
    }
   ],
   "source": [
    "selective_quantized_model = debugger.get_nondebug_quantized_model()\n",
    "eval_tflite(selective_quantized_model, ds)"
   ]
  },
  {
   "cell_type": "markdown",
   "metadata": {
    "id": "xa8488TeAyx-"
   },
   "source": [
    "With these techniques, we are able to improve the quantized MobileNet V3 model\n",
    "accuracy. Next we'll explore advanced techniques to improve the model accuracy\n",
    "even more."
   ]
  },
  {
   "cell_type": "markdown",
   "metadata": {
    "id": "ZD75cY9PUb2u"
   },
   "source": [
    "## Advanced usages\n",
    "\n",
    "Whith following features, you can further customize your debugging pipeline."
   ]
  },
  {
   "cell_type": "markdown",
   "metadata": {
    "id": "aVj9yrQoUfGo"
   },
   "source": [
    "### Custom metrics\n",
    "\n",
    "By default, the quantization debugger emits five metrics for each float-quant\n",
    "difference: tensor size, standard deviation, mean error, max absolute error, and\n",
    "mean squared error. You can add more custom metrics by passing them to options.\n",
    "For each metrics, the result should be a single float value and the resulting\n",
    "metric will be an average of metrics from all examples.\n",
    "\n",
    "*   `layer_debug_metrics`: calculate metric based on diff for each op outputs\n",
    "    from float and quantized op outputs.\n",
    "*   `layer_direct_compare_metrics`: rather than getting diff only, this will\n",
    "    calculate metric based on raw float and quantized tensors, and its\n",
    "    quantization parameters (scale, zero point)\n",
    "*   `model_debug_metrics`: **only used when `float_model_(path|content)` is\n",
    "    passed** to the debugger. In addition to the op-level metrics, final layer\n",
    "    output is compared to the reference output from the original float model."
   ]
  },
  {
   "cell_type": "code",
   "execution_count": 21,
   "metadata": {
    "execution": {
     "iopub.execute_input": "2022-10-20T13:31:23.368109Z",
     "iopub.status.busy": "2022-10-20T13:31:23.367467Z",
     "iopub.status.idle": "2022-10-20T13:31:46.781371Z",
     "shell.execute_reply": "2022-10-20T13:31:46.780602Z"
    },
    "id": "WqmRQSxoVVwu"
   },
   "outputs": [
    {
     "name": "stderr",
     "output_type": "stream",
     "text": [
      "WARNING:absl:Found untraced functions such as _update_step_xla while saving (showing 1 of 1). These functions will not be directly callable after loading.\n"
     ]
    },
    {
     "name": "stdout",
     "output_type": "stream",
     "text": [
      "INFO:tensorflow:Assets written to: /tmpfs/tmp/tmp9w8zlypq/assets\n"
     ]
    },
    {
     "name": "stderr",
     "output_type": "stream",
     "text": [
      "INFO:tensorflow:Assets written to: /tmpfs/tmp/tmp9w8zlypq/assets\n"
     ]
    },
    {
     "name": "stderr",
     "output_type": "stream",
     "text": [
      "2022-10-20 13:31:31.326115: W tensorflow/compiler/mlir/lite/python/tf_tfl_flatbuffer_helpers.cc:362] Ignored output_format.\n",
      "2022-10-20 13:31:31.326168: W tensorflow/compiler/mlir/lite/python/tf_tfl_flatbuffer_helpers.cc:365] Ignored drop_control_dependency.\n"
     ]
    },
    {
     "name": "stderr",
     "output_type": "stream",
     "text": [
      "WARNING:absl:Found untraced functions such as _update_step_xla while saving (showing 1 of 1). These functions will not be directly callable after loading.\n"
     ]
    },
    {
     "name": "stdout",
     "output_type": "stream",
     "text": [
      "INFO:tensorflow:Assets written to: /tmpfs/tmp/tmprs4i0_bf/assets\n"
     ]
    },
    {
     "name": "stderr",
     "output_type": "stream",
     "text": [
      "INFO:tensorflow:Assets written to: /tmpfs/tmp/tmprs4i0_bf/assets\n"
     ]
    },
    {
     "name": "stderr",
     "output_type": "stream",
     "text": [
      "/tmpfs/src/tf_docs_env/lib/python3.9/site-packages/tensorflow/lite/python/convert.py:765: UserWarning: Statistics for quantized inputs were expected, but not specified; continuing anyway.\n",
      "  warnings.warn(\"Statistics for quantized inputs were expected, but not \"\n",
      "2022-10-20 13:31:40.543706: W tensorflow/compiler/mlir/lite/python/tf_tfl_flatbuffer_helpers.cc:362] Ignored output_format.\n",
      "2022-10-20 13:31:40.543753: W tensorflow/compiler/mlir/lite/python/tf_tfl_flatbuffer_helpers.cc:365] Ignored drop_control_dependency.\n"
     ]
    },
    {
     "name": "stderr",
     "output_type": "stream",
     "text": [
      "fully_quantize: 0, inference_type: 6, input_inference_type: FLOAT32, output_inference_type: FLOAT32\n"
     ]
    }
   ],
   "source": [
    "debug_options = tf.lite.experimental.QuantizationDebugOptions(\n",
    "    layer_debug_metrics={\n",
    "        'mean_abs_error': (lambda diff: np.mean(np.abs(diff)))\n",
    "    },\n",
    "    layer_direct_compare_metrics={\n",
    "        'correlation':\n",
    "            lambda f, q, s, zp: (np.corrcoef(f.flatten(),\n",
    "                                             (q.flatten() - zp) / s)[0, 1])\n",
    "    },\n",
    "    model_debug_metrics={\n",
    "        'argmax_accuracy': (lambda f, q: np.mean(np.argmax(f) == np.argmax(q)))\n",
    "    })\n",
    "\n",
    "debugger = tf.lite.experimental.QuantizationDebugger(\n",
    "    converter=converter,\n",
    "    debug_dataset=representative_dataset(ds),\n",
    "    debug_options=debug_options)"
   ]
  },
  {
   "cell_type": "code",
   "execution_count": 22,
   "metadata": {
    "execution": {
     "iopub.execute_input": "2022-10-20T13:31:46.784928Z",
     "iopub.status.busy": "2022-10-20T13:31:46.784642Z",
     "iopub.status.idle": "2022-10-20T13:32:02.697765Z",
     "shell.execute_reply": "2022-10-20T13:32:02.696943Z"
    },
    "id": "PVQ4nEicXz2l"
   },
   "outputs": [
    {
     "name": "stderr",
     "output_type": "stream",
     "text": [
      "/tmpfs/src/tf_docs_env/lib/python3.9/site-packages/numpy/lib/function_base.py:2853: RuntimeWarning: invalid value encountered in divide\n",
      "  c /= stddev[:, None]\n"
     ]
    },
    {
     "name": "stderr",
     "output_type": "stream",
     "text": [
      "/tmpfs/src/tf_docs_env/lib/python3.9/site-packages/tensorflow/lite/tools/optimize/debugging/python/debugger.py:382: RuntimeWarning: Mean of empty slice\n",
      "  metrics[metric_name] = np.nanmean(metrics[metric_name])\n"
     ]
    }
   ],
   "source": [
    "debugger.run()"
   ]
  },
  {
   "cell_type": "code",
   "execution_count": 23,
   "metadata": {
    "execution": {
     "iopub.execute_input": "2022-10-20T13:32:02.702981Z",
     "iopub.status.busy": "2022-10-20T13:32:02.702226Z",
     "iopub.status.idle": "2022-10-20T13:32:02.720747Z",
     "shell.execute_reply": "2022-10-20T13:32:02.720048Z"
    },
    "id": "dfKA90csX9UL"
   },
   "outputs": [
    {
     "data": {
      "text/html": [
       "<div>\n",
       "<style scoped>\n",
       "    .dataframe tbody tr th:only-of-type {\n",
       "        vertical-align: middle;\n",
       "    }\n",
       "\n",
       "    .dataframe tbody tr th {\n",
       "        vertical-align: top;\n",
       "    }\n",
       "\n",
       "    .dataframe thead th {\n",
       "        text-align: right;\n",
       "    }\n",
       "</style>\n",
       "<table border=\"1\" class=\"dataframe\">\n",
       "  <thead>\n",
       "    <tr style=\"text-align: right;\">\n",
       "      <th></th>\n",
       "      <th>op_name</th>\n",
       "      <th>mean_abs_error</th>\n",
       "      <th>correlation</th>\n",
       "    </tr>\n",
       "  </thead>\n",
       "  <tbody>\n",
       "    <tr>\n",
       "      <th>106</th>\n",
       "      <td>CONV_2D</td>\n",
       "      <td>1.890278e-02</td>\n",
       "      <td>0.007164</td>\n",
       "    </tr>\n",
       "    <tr>\n",
       "      <th>107</th>\n",
       "      <td>HARD_SWISH</td>\n",
       "      <td>5.650395e-03</td>\n",
       "      <td>0.591051</td>\n",
       "    </tr>\n",
       "    <tr>\n",
       "      <th>108</th>\n",
       "      <td>AVERAGE_POOL_2D</td>\n",
       "      <td>4.777645e-08</td>\n",
       "      <td>0.003867</td>\n",
       "    </tr>\n",
       "    <tr>\n",
       "      <th>109</th>\n",
       "      <td>CONV_2D</td>\n",
       "      <td>2.027273e-02</td>\n",
       "      <td>0.997327</td>\n",
       "    </tr>\n",
       "    <tr>\n",
       "      <th>110</th>\n",
       "      <td>RESHAPE</td>\n",
       "      <td>1.335906e-07</td>\n",
       "      <td>0.997489</td>\n",
       "    </tr>\n",
       "  </tbody>\n",
       "</table>\n",
       "</div>"
      ],
      "text/plain": [
       "             op_name  mean_abs_error  correlation\n",
       "106          CONV_2D    1.890278e-02     0.007164\n",
       "107       HARD_SWISH    5.650395e-03     0.591051\n",
       "108  AVERAGE_POOL_2D    4.777645e-08     0.003867\n",
       "109          CONV_2D    2.027273e-02     0.997327\n",
       "110          RESHAPE    1.335906e-07     0.997489"
      ]
     },
     "execution_count": 23,
     "metadata": {},
     "output_type": "execute_result"
    }
   ],
   "source": [
    "CUSTOM_RESULTS_FILE = '/tmp/debugger_results.csv'\n",
    "with open(CUSTOM_RESULTS_FILE, 'w') as f:\n",
    "  debugger.layer_statistics_dump(f)\n",
    "\n",
    "custom_layer_stats = pd.read_csv(CUSTOM_RESULTS_FILE)\n",
    "custom_layer_stats[['op_name', 'mean_abs_error', 'correlation']].tail()"
   ]
  },
  {
   "cell_type": "markdown",
   "metadata": {
    "id": "Qqq30oWsZF5b"
   },
   "source": [
    "The result of `model_debug_metrics` can be separately seen from\n",
    "`debugger.model_statistics`."
   ]
  },
  {
   "cell_type": "code",
   "execution_count": 24,
   "metadata": {
    "execution": {
     "iopub.execute_input": "2022-10-20T13:32:02.724736Z",
     "iopub.status.busy": "2022-10-20T13:32:02.724140Z",
     "iopub.status.idle": "2022-10-20T13:32:02.728806Z",
     "shell.execute_reply": "2022-10-20T13:32:02.728086Z"
    },
    "id": "wrXlmzEHYhQ5"
   },
   "outputs": [
    {
     "data": {
      "text/plain": [
       "{'argmax_accuracy': 0.38}"
      ]
     },
     "execution_count": 24,
     "metadata": {},
     "output_type": "execute_result"
    }
   ],
   "source": [
    "debugger.model_statistics"
   ]
  },
  {
   "cell_type": "markdown",
   "metadata": {
    "id": "DqJBLIsoUyIg"
   },
   "source": [
    "### Using (internal) mlir_quantize API to access in-depth features\n",
    "\n",
    "Note: Some features in the folowing section,\n",
    "`TFLiteConverter._experimental_calibrate_only` and `converter.mlir_quantize` are\n",
    "experimental internal APIs, and subject to change in a non-backward compatible\n",
    "way."
   ]
  },
  {
   "cell_type": "code",
   "execution_count": 25,
   "metadata": {
    "execution": {
     "iopub.execute_input": "2022-10-20T13:32:02.732759Z",
     "iopub.status.busy": "2022-10-20T13:32:02.732233Z",
     "iopub.status.idle": "2022-10-20T13:32:02.735542Z",
     "shell.execute_reply": "2022-10-20T13:32:02.734828Z"
    },
    "id": "VJm66Cz-XpeF"
   },
   "outputs": [],
   "source": [
    "from tensorflow.lite.python import convert"
   ]
  },
  {
   "cell_type": "markdown",
   "metadata": {
    "id": "2krUVzpiUp3u"
   },
   "source": [
    "#### Whole model verify mode\n",
    "\n",
    "The default behavior for the debug model generation is per-layer verify. In this\n",
    "mode, the input for float and quantize op pair is from the same source (previous\n",
    "quantized op). Another mode is whole-model verify, where the float and quantize\n",
    "models are separated. This mode would be useful to observe how the error is\n",
    "being propagated down the model. To enable, `enable_whole_model_verify=True` to\n",
    "`convert.mlir_quantize` while generating the debug model manually."
   ]
  },
  {
   "cell_type": "code",
   "execution_count": 26,
   "metadata": {
    "execution": {
     "iopub.execute_input": "2022-10-20T13:32:02.739502Z",
     "iopub.status.busy": "2022-10-20T13:32:02.738981Z",
     "iopub.status.idle": "2022-10-20T13:32:16.885050Z",
     "shell.execute_reply": "2022-10-20T13:32:16.884313Z"
    },
    "id": "5zykINDlVLSg"
   },
   "outputs": [
    {
     "name": "stderr",
     "output_type": "stream",
     "text": [
      "WARNING:absl:Found untraced functions such as _update_step_xla while saving (showing 1 of 1). These functions will not be directly callable after loading.\n"
     ]
    },
    {
     "name": "stdout",
     "output_type": "stream",
     "text": [
      "INFO:tensorflow:Assets written to: /tmpfs/tmp/tmp3g631ley/assets\n"
     ]
    },
    {
     "name": "stderr",
     "output_type": "stream",
     "text": [
      "INFO:tensorflow:Assets written to: /tmpfs/tmp/tmp3g631ley/assets\n"
     ]
    },
    {
     "name": "stderr",
     "output_type": "stream",
     "text": [
      "/tmpfs/src/tf_docs_env/lib/python3.9/site-packages/tensorflow/lite/python/convert.py:765: UserWarning: Statistics for quantized inputs were expected, but not specified; continuing anyway.\n",
      "  warnings.warn(\"Statistics for quantized inputs were expected, but not \"\n"
     ]
    },
    {
     "name": "stderr",
     "output_type": "stream",
     "text": [
      "2022-10-20 13:32:11.224748: W tensorflow/compiler/mlir/lite/python/tf_tfl_flatbuffer_helpers.cc:362] Ignored output_format.\n",
      "2022-10-20 13:32:11.224798: W tensorflow/compiler/mlir/lite/python/tf_tfl_flatbuffer_helpers.cc:365] Ignored drop_control_dependency.\n"
     ]
    }
   ],
   "source": [
    "converter = tf.lite.TFLiteConverter.from_keras_model(model)\n",
    "converter.representative_dataset = representative_dataset(ds)\n",
    "converter.optimizations = [tf.lite.Optimize.DEFAULT]\n",
    "converter._experimental_calibrate_only = True\n",
    "calibrated_model = converter.convert()"
   ]
  },
  {
   "cell_type": "code",
   "execution_count": 27,
   "metadata": {
    "execution": {
     "iopub.execute_input": "2022-10-20T13:32:16.889347Z",
     "iopub.status.busy": "2022-10-20T13:32:16.888927Z",
     "iopub.status.idle": "2022-10-20T13:32:17.468310Z",
     "shell.execute_reply": "2022-10-20T13:32:17.467569Z"
    },
    "id": "eqvXlEiFXfSu"
   },
   "outputs": [
    {
     "name": "stderr",
     "output_type": "stream",
     "text": [
      "fully_quantize: 0, inference_type: 6, input_inference_type: FLOAT32, output_inference_type: FLOAT32\n"
     ]
    }
   ],
   "source": [
    "# Note that enable_numeric_verify and enable_whole_model_verify are set.\n",
    "quantized_model = convert.mlir_quantize(\n",
    "    calibrated_model,\n",
    "    enable_numeric_verify=True,\n",
    "    enable_whole_model_verify=True)\n",
    "debugger = tf.lite.experimental.QuantizationDebugger(\n",
    "    quant_debug_model_content=quantized_model,\n",
    "    debug_dataset=representative_dataset(ds))"
   ]
  },
  {
   "cell_type": "markdown",
   "metadata": {
    "id": "xQ6TFsXQVHMe"
   },
   "source": [
    "#### Selective quantization from an already calibrated model\n",
    "\n",
    "You can directly call `convert.mlir_quantize` to get the selective quantized\n",
    "model from already calibrated model. This would be particularly useful when you\n",
    "want to calibrate the model once, and experiment with various denylist\n",
    "combinations."
   ]
  },
  {
   "cell_type": "code",
   "execution_count": 28,
   "metadata": {
    "execution": {
     "iopub.execute_input": "2022-10-20T13:32:17.481438Z",
     "iopub.status.busy": "2022-10-20T13:32:17.481159Z",
     "iopub.status.idle": "2022-10-20T13:32:20.133795Z",
     "shell.execute_reply": "2022-10-20T13:32:20.132981Z"
    },
    "id": "ZCS-Fa9lbdc0"
   },
   "outputs": [
    {
     "name": "stderr",
     "output_type": "stream",
     "text": [
      "fully_quantize: 0, inference_type: 6, input_inference_type: FLOAT32, output_inference_type: FLOAT32\n"
     ]
    },
    {
     "name": "stdout",
     "output_type": "stream",
     "text": [
      "Top-5 accuracy (quantized): 65.00%\n"
     ]
    }
   ],
   "source": [
    "selective_quantized_model = convert.mlir_quantize(\n",
    "    calibrated_model, denylisted_nodes=suspected_layers)\n",
    "eval_tflite(selective_quantized_model, ds)"
   ]
  }
 ],
 "metadata": {
  "colab": {
   "collapsed_sections": [
    "Eq_8T2oauIED"
   ],
   "name": "quantization_debugger.ipynb",
   "provenance": [],
   "toc_visible": true
  },
  "kernelspec": {
   "display_name": "Quantize",
   "language": "python",
   "name": "python3"
  },
  "language_info": {
   "codemirror_mode": {
    "name": "ipython",
    "version": 3
   },
   "file_extension": ".py",
   "mimetype": "text/x-python",
   "name": "python",
   "nbconvert_exporter": "python",
   "pygments_lexer": "ipython3",
   "version": "3.10.9 (main, Jan 11 2023, 15:21:40) [GCC 11.2.0]"
  },
  "vscode": {
   "interpreter": {
    "hash": "d3a07a8b495e35acd8285d5b15102e67f59870bcd0ea6b5dc22aa69117eb6599"
   }
  }
 },
 "nbformat": 4,
 "nbformat_minor": 0
}
